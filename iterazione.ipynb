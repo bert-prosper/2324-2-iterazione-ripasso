{
 "cells": [
  {
   "cell_type": "markdown",
   "metadata": {},
   "source": [
    "# Iterazione\n",
    "\n",
    "Ci sono due modi per realizzare l'iterazione in python: le istruzioni `for` e `while`.\n",
    "\n",
    "## Contare\n",
    "\n",
    "Prima di tutto impariamo a contare."
   ]
  },
  {
   "cell_type": "code",
   "execution_count": 1,
   "metadata": {},
   "outputs": [
    {
     "name": "stdout",
     "output_type": "stream",
     "text": [
      "Il contatore vale: 1\n",
      "Il contatore vale: 2\n",
      "Il contatore vale: 3\n",
      "Il contatore vale: 4\n",
      "Il contatore vale: 5\n",
      "Il contatore vale: 6\n",
      "Il contatore vale: 7\n",
      "Il contatore vale: 8\n",
      "Il contatore vale: 9\n",
      "Il contatore vale: 10\n",
      "Sono dal while, infatti i vale: 11\n"
     ]
    }
   ],
   "source": [
    "i = 1   # variabile contatore\n",
    "\n",
    "while i <= 10:\n",
    "    print(\"Il contatore vale:\", i)\n",
    "    i = i + 1\n",
    "print(\"Sono dal while, infatti i vale:\", i)"
   ]
  },
  {
   "cell_type": "code",
   "execution_count": 7,
   "metadata": {},
   "outputs": [
    {
     "name": "stdout",
     "output_type": "stream",
     "text": [
      "Il contatore vale: 1\n",
      "Il contatore vale: 2\n",
      "Il contatore vale: 3\n",
      "Il contatore vale: 4\n",
      "Il contatore vale: 5\n",
      "Il contatore vale: 6\n",
      "Il contatore vale: 7\n",
      "Il contatore vale: 8\n",
      "Il contatore vale: 9\n",
      "Il contatore vale: 10\n",
      "Sono fuori dal for\n"
     ]
    }
   ],
   "source": [
    "for i in range(1, 11):   # i è la variabile contatore\n",
    "    print(\"Il contatore vale:\", i)\n",
    "print(\"Sono fuori dal for\")\n"
   ]
  },
  {
   "cell_type": "markdown",
   "metadata": {},
   "source": [
    "### Esercizi\n",
    "\n",
    "1. Fare un conto alla rovescia\n",
    "2. Scrivere la tabellina del 3\n",
    "3. Scrivere i numeri pari da 1 a 100.\n"
   ]
  }
 ],
 "metadata": {
  "kernelspec": {
   "display_name": "Python 3",
   "language": "python",
   "name": "python3"
  },
  "language_info": {
   "codemirror_mode": {
    "name": "ipython",
    "version": 3
   },
   "file_extension": ".py",
   "mimetype": "text/x-python",
   "name": "python",
   "nbconvert_exporter": "python",
   "pygments_lexer": "ipython3",
   "version": "3.10.13"
  }
 },
 "nbformat": 4,
 "nbformat_minor": 2
}
