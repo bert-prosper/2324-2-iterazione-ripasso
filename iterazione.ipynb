{
 "cells": [
  {
   "cell_type": "markdown",
   "metadata": {},
   "source": [
    "# Iterazione\n",
    "\n",
    "Ci sono due modi per realizzare l'iterazione in python: le istruzioni `for` e `while`.\n",
    "\n",
    "## Contare\n",
    "\n",
    "Prima di tutto impariamo a contare."
   ]
  },
  {
   "cell_type": "code",
   "execution_count": 1,
   "metadata": {},
   "outputs": [
    {
     "name": "stdout",
     "output_type": "stream",
     "text": [
      "Il contatore vale: 1\n",
      "Il contatore vale: 2\n",
      "Il contatore vale: 3\n",
      "Il contatore vale: 4\n",
      "Il contatore vale: 5\n",
      "Il contatore vale: 6\n",
      "Il contatore vale: 7\n",
      "Il contatore vale: 8\n",
      "Il contatore vale: 9\n",
      "Il contatore vale: 10\n",
      "Sono dal while, infatti i vale: 11\n"
     ]
    }
   ],
   "source": [
    "i = 1   # variabile contatore\n",
    "\n",
    "while i <= 10:\n",
    "    print(\"Il contatore vale:\", i)\n",
    "    i = i + 1\n",
    "print(\"Sono dal while, infatti i vale:\", i)"
   ]
  },
  {
   "cell_type": "code",
   "execution_count": 7,
   "metadata": {},
   "outputs": [
    {
     "name": "stdout",
     "output_type": "stream",
     "text": [
      "Il contatore vale: 1\n",
      "Il contatore vale: 2\n",
      "Il contatore vale: 3\n",
      "Il contatore vale: 4\n",
      "Il contatore vale: 5\n",
      "Il contatore vale: 6\n",
      "Il contatore vale: 7\n",
      "Il contatore vale: 8\n",
      "Il contatore vale: 9\n",
      "Il contatore vale: 10\n",
      "Sono fuori dal for\n"
     ]
    }
   ],
   "source": [
    "for i in range(1, 11):   # i è la variabile contatore\n",
    "    print(\"Il contatore vale:\", i)\n",
    "print(\"Sono fuori dal for\")\n"
   ]
  },
  {
   "cell_type": "markdown",
   "metadata": {},
   "source": [
    "### Esercizi\n",
    "\n",
    "1. Fare un conto alla rovescia\n",
    "2. Scrivere la tabellina del 3\n",
    "3. Scrivere i numeri pari da 1 a 100.\n"
   ]
  },
  {
   "cell_type": "markdown",
   "metadata": {},
   "source": [
    "#### Esercizio 1: conto alla rovescia"
   ]
  },
  {
   "cell_type": "code",
   "execution_count": 2,
   "metadata": {},
   "outputs": [
    {
     "name": "stdout",
     "output_type": "stream",
     "text": [
      "10\n",
      "9\n",
      "8\n",
      "7\n",
      "6\n",
      "5\n",
      "4\n",
      "3\n",
      "2\n",
      "1\n",
      "0\n"
     ]
    }
   ],
   "source": [
    "# col ciclo while\n",
    "i = 10\n",
    "while i>=0:\n",
    "    print(i)\n",
    "    i -= 1  # vuol dire: i = i - 1 "
   ]
  },
  {
   "cell_type": "code",
   "execution_count": 3,
   "metadata": {},
   "outputs": [
    {
     "name": "stdout",
     "output_type": "stream",
     "text": [
      "10\n",
      "9\n",
      "8\n",
      "7\n",
      "6\n",
      "5\n",
      "4\n",
      "3\n",
      "2\n",
      "1\n",
      "0\n"
     ]
    }
   ],
   "source": [
    "# col ciclo for\n",
    "n=10\n",
    "for i in range(1,12):\n",
    "    print(n)\n",
    "    n=10-i\n"
   ]
  },
  {
   "cell_type": "code",
   "execution_count": 8,
   "metadata": {},
   "outputs": [
    {
     "name": "stdout",
     "output_type": "stream",
     "text": [
      "10\n",
      "9\n",
      "8\n",
      "7\n",
      "6\n",
      "5\n",
      "4\n",
      "3\n",
      "2\n",
      "1\n",
      "0\n"
     ]
    }
   ],
   "source": [
    "for i in range(10, -1, -1):\n",
    "    print(i)"
   ]
  },
  {
   "cell_type": "markdown",
   "metadata": {},
   "source": [
    "#### Esercizio 2: tabellina del 3"
   ]
  },
  {
   "cell_type": "code",
   "execution_count": 1,
   "metadata": {},
   "outputs": [
    {
     "name": "stdout",
     "output_type": "stream",
     "text": [
      "3\n",
      "6\n",
      "9\n",
      "12\n",
      "15\n",
      "18\n",
      "21\n",
      "24\n",
      "27\n",
      "30\n"
     ]
    }
   ],
   "source": [
    "# Col while\n",
    "\n",
    "i=3\n",
    "while i<=30:\n",
    "    print(i)\n",
    "    i += 3"
   ]
  },
  {
   "cell_type": "code",
   "execution_count": 2,
   "metadata": {},
   "outputs": [
    {
     "name": "stdout",
     "output_type": "stream",
     "text": [
      "3\n",
      "6\n",
      "9\n",
      "12\n",
      "15\n",
      "18\n",
      "21\n",
      "24\n",
      "27\n",
      "30\n"
     ]
    }
   ],
   "source": [
    "# Un altro modo per farlo\n",
    "i = 1\n",
    "while i <= 10:\n",
    "    print(i*3)\n",
    "    i += 1 "
   ]
  },
  {
   "cell_type": "code",
   "execution_count": 6,
   "metadata": {},
   "outputs": [
    {
     "name": "stdout",
     "output_type": "stream",
     "text": [
      "3\n",
      "6\n",
      "9\n",
      "12\n",
      "15\n",
      "18\n",
      "21\n",
      "24\n",
      "27\n",
      "30\n"
     ]
    }
   ],
   "source": [
    "# Col for\n",
    "\n",
    "for i in range(3, 31, 3):\n",
    "    print(i)"
   ]
  },
  {
   "cell_type": "code",
   "execution_count": 7,
   "metadata": {},
   "outputs": [
    {
     "name": "stdout",
     "output_type": "stream",
     "text": [
      "3\n",
      "6\n",
      "9\n",
      "12\n",
      "15\n",
      "18\n",
      "21\n",
      "24\n",
      "27\n",
      "30\n"
     ]
    }
   ],
   "source": [
    "# Un altro modo col for\n",
    "for i in range(1, 11):\n",
    "    print(i*3)"
   ]
  },
  {
   "cell_type": "markdown",
   "metadata": {},
   "source": [
    "#### Esercizio 3: scrivere i numeri pari da 1 a 100"
   ]
  },
  {
   "cell_type": "code",
   "execution_count": null,
   "metadata": {},
   "outputs": [],
   "source": [
    "# Col ciclo while\n",
    "i = 2\n",
    "while i <= 100:\n",
    "    print(i)\n",
    "    i += 2\n"
   ]
  },
  {
   "cell_type": "code",
   "execution_count": null,
   "metadata": {},
   "outputs": [],
   "source": [
    "# Col for\n",
    "for i in range(2, 101, 2):\n",
    "    print(i)"
   ]
  },
  {
   "cell_type": "markdown",
   "metadata": {},
   "source": [
    "## Accumulatore\n",
    "\n",
    "Vediamo come usare un ciclo per sommare dei numeri. Per calcolare una somma tramite un'iterazione, dobbiamo utilizzare un'ulteriore variabile, che prende il nome di *accumulatore*. I numeri da sommare vengono accumulati, uno alla volta, in questa variabile, che quindi rappresenta una somma parziale. \n",
    "\n",
    "Il primo esempio che vediamo è la somma dei numeri interi compresi tra 1 e 10."
   ]
  },
  {
   "cell_type": "code",
   "execution_count": 9,
   "metadata": {},
   "outputs": [
    {
     "name": "stdout",
     "output_type": "stream",
     "text": [
      "somma parziale vale:  1\n",
      "somma parziale vale:  3\n",
      "somma parziale vale:  6\n",
      "somma parziale vale:  10\n",
      "somma parziale vale:  15\n",
      "somma parziale vale:  21\n",
      "somma parziale vale:  28\n",
      "somma parziale vale:  36\n",
      "somma parziale vale:  45\n",
      "somma parziale vale:  55\n",
      "Il valore finale della somma è:  55\n"
     ]
    }
   ],
   "source": [
    "somma = 0  # La variabile somma si dice ACCUMULATORE\n",
    "i = 1\n",
    "while i <= 10:\n",
    "    somma += i   # vuol dire: somma = somma + i\n",
    "    # print(\"somma parziale vale: \", somma)\n",
    "    i += 1\n",
    "print(\"Il valore finale della somma è: \", somma)\n"
   ]
  },
  {
   "cell_type": "code",
   "execution_count": 14,
   "metadata": {},
   "outputs": [
    {
     "name": "stdout",
     "output_type": "stream",
     "text": [
      "La somma degli interi da 1 a 10 vale 55\n"
     ]
    }
   ],
   "source": [
    "# Col for\n",
    "\n",
    "somma = 0\n",
    "for i in range(1, 11):\n",
    "    somma += i\n",
    "    #print(\"DEBUG: somma=\", somma)\n",
    "print(\"La somma degli interi da 1 a 10 vale\", somma)"
   ]
  },
  {
   "cell_type": "markdown",
   "metadata": {},
   "source": [
    "Come secondo esempio, vediamo come acquisire 5 numeri in input e calcolare la somma."
   ]
  },
  {
   "cell_type": "code",
   "execution_count": 2,
   "metadata": {},
   "outputs": [
    {
     "name": "stdout",
     "output_type": "stream",
     "text": [
      "La somma dei 5 numeri è: 16\n"
     ]
    }
   ],
   "source": [
    "# col ciclo 'while'\n",
    "somma = 0   # accumulatore\n",
    "i = 0   # contatore\n",
    "while i < 5:\n",
    "    n = int(input(\"Inserisci un numero: \"))\n",
    "    somma += n   # somma = somma + n\n",
    "    i += 1    # i = i + 1\n",
    "print(\"La somma dei 5 numeri è:\", somma)"
   ]
  },
  {
   "cell_type": "code",
   "execution_count": 3,
   "metadata": {},
   "outputs": [
    {
     "name": "stdout",
     "output_type": "stream",
     "text": [
      "la somma dei 5 numeri è: 29\n"
     ]
    }
   ],
   "source": [
    "# col ciclo 'for'\n",
    "somma = 0\n",
    "for i in range(5):\n",
    "    n = int(input(\"inserisci un numero: \"))\n",
    "    somma += n \n",
    "print(\"la somma dei 5 numeri è:\", somma)"
   ]
  },
  {
   "cell_type": "markdown",
   "metadata": {},
   "source": [
    "### Itarazione definita e iterazione indefinita\n",
    "\n",
    "Nell'iterazione *definita* il numero di ripetezioni è definito. Prima ancora di eseguire il programma sappiamo quante volte verrà ripetuto il ciclo. Tutti gli esempi precedenti sono iterazioni definite.\n",
    "\n",
    "Nell'iterazione *indefinita*, invece, non è definito (cioè noto) il numero di ripetizioni del ciclo.\n",
    "\n",
    "Normalemente, per l'iterazione definita si usa il `for`, mentre per quella indefinita il `while`."
   ]
  },
  {
   "cell_type": "markdown",
   "metadata": {},
   "source": [
    "Vediamo un esempio di iterazione indefinita. Dobbiamo acquisire 5 voti, controllando che i numeri inseriti siano validi (cioè compresi tra 1 e 10) e calcolare la media di questi 5 voti."
   ]
  },
  {
   "cell_type": "code",
   "execution_count": 4,
   "metadata": {},
   "outputs": [
    {
     "name": "stdout",
     "output_type": "stream",
     "text": [
      "La media dei 5 voti è:  7.0\n"
     ]
    }
   ],
   "source": [
    "somma = 0\n",
    "i = 0\n",
    "while i < 5:\n",
    "    voto = float(input(\"Inserisci un voto: \"))\n",
    "    if 1 <= voto <= 10:\n",
    "        somma += voto\n",
    "        i += 1\n",
    "media = somma / 5\n",
    "print(\"La media dei 5 voti è: \", media)"
   ]
  },
  {
   "cell_type": "markdown",
   "metadata": {},
   "source": [
    "#### Indovina il numero\n",
    "Realizziamo un giochino che utilizza l'iterazione indefinita. Il computer estrae un numero casuale compreso tra 1 e 10 e l'utente deve indovinare questo numero nel minor numero di tentativi possibili.\n",
    "\n",
    "Per estrarre un numero casuale, usiamo la funzione `randint(a, b)` della libreria `random`, dove `a` e `b` sono gli estremi dell'intervallo dentro cui viene estratto il numero. La libreria `random` va importata per mezzo dell'istruzione `import random`."
   ]
  },
  {
   "cell_type": "code",
   "execution_count": 14,
   "metadata": {},
   "outputs": [
    {
     "name": "stdout",
     "output_type": "stream",
     "text": [
      "9\n"
     ]
    }
   ],
   "source": [
    "import random\n",
    "print(random.randint(1, 10))"
   ]
  },
  {
   "cell_type": "markdown",
   "metadata": {},
   "source": [
    "Scriviamo ora il programma del gioco."
   ]
  },
  {
   "cell_type": "code",
   "execution_count": 1,
   "metadata": {},
   "outputs": [
    {
     "name": "stdout",
     "output_type": "stream",
     "text": [
      "Hai sbagliato, riprova!\n",
      "Hai sbagliato, riprova!\n",
      "Hai indovinato!\n",
      "Hai impiegato 3 tentativi\n"
     ]
    }
   ],
   "source": [
    "import random\n",
    "n_estratto = random.randint(1, 10)\n",
    "n_tentativo = int(input(\"Inserisci un numero (tra 1 e 10): \"))\n",
    "i = 1\n",
    "\n",
    "while n_tentativo != n_estratto:\n",
    "    print(\"Hai sbagliato, riprova!\")\n",
    "    n_tentativo = int(input(\"Inserisci un numero (tra 1 e 10): \"))\n",
    "    i += 1\n",
    "\n",
    "print(\"Hai indovinato!\")\n",
    "print(\"Hai impiegato\", i, \"tentativi\")"
   ]
  },
  {
   "cell_type": "markdown",
   "metadata": {},
   "source": [
    "#### Esercizio \n",
    "Modifica il programma di *indovina il numero*, in modo che il numero estratto sia compreso tra 1 e 100. Siccome le possibilità ora sono molte di più, l'utente farà più fatica a indovinare. Di conseguenza, il gioco deve fornire un suggerimento all'utente. Dopo ogni tentativo sbagliato, dovrà dire se il numero inserito è più piccolo o più grande del numero estratto. "
   ]
  },
  {
   "cell_type": "code",
   "execution_count": null,
   "metadata": {},
   "outputs": [],
   "source": [
    "\"\"\"\n",
    "Scrivi il tuo programma qui sotto\n",
    "\"\"\""
   ]
  }
 ],
 "metadata": {
  "kernelspec": {
   "display_name": "Python 3",
   "language": "python",
   "name": "python3"
  },
  "language_info": {
   "codemirror_mode": {
    "name": "ipython",
    "version": 3
   },
   "file_extension": ".py",
   "mimetype": "text/x-python",
   "name": "python",
   "nbconvert_exporter": "python",
   "pygments_lexer": "ipython3",
   "version": "3.10.13"
  }
 },
 "nbformat": 4,
 "nbformat_minor": 2
}

import random

n_estratto = random.randint(1, 100)
n_tentativo = int(input("Inserisci un numero (tra 1 e 100): "))
i = 1

while n_tentativo != n_estratto:
    print("Hai sbagliato, riprova!")

    if n_tentativo < n_estratto:
        print("Il numero è più piccolo di quello che hai sorteggiato")
    elif n_tentativo > n_estratto:
        print("Il numero è più grande di quello che hai sorteggiato")
    n_tentativo = int(input("Inserisci un numero da 1 a 100: "))
    i += 1

print("Hai indovinato!")
print("Hai impiegato", i, "tentativi")

